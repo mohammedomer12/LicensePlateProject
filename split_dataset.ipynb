{
 "cells": [
  {
   "cell_type": "code",
   "execution_count": 1,
   "metadata": {},
   "outputs": [],
   "source": [
    "import os\n",
    "import shutil\n",
    "import random"
   ]
  },
  {
   "cell_type": "code",
   "execution_count": 2,
   "metadata": {},
   "outputs": [],
   "source": [
    "images_dir = 'dataset/images/license_plates_detection_train'\n",
    "labels_dir = 'dataset/labels'\n",
    "train_images_dir = 'dataset/images/train'\n",
    "val_images_dir = 'dataset/images/val'\n",
    "train_labels_dir = 'dataset/labels/train'\n",
    "val_labels_dir = 'dataset/labels/val'\n",
    "\n",
    "image_files = [f for f in os.listdir(images_dir) if f.endswith('.jpg')]\n",
    "random.shuffle(image_files)\n",
    "split_index = int(len(image_files) * 0.8)\n",
    "train_files = image_files[:split_index]\n",
    "val_files = image_files[split_index:]\n",
    "\n",
    "for file_name in train_files:\n",
    "    shutil.move(os.path.join(images_dir, file_name), os.path.join(train_images_dir, file_name))\n",
    "    label_file = file_name.replace('.jpg', '.txt')\n",
    "    if os.path.exists(os.path.join(labels_dir, label_file)):\n",
    "        shutil.move(os.path.join(labels_dir,label_file), os.path.join(train_labels_dir, label_file))\n",
    "\n",
    "\n",
    "for file_name in val_files:\n",
    "    shutil.move(os.path.join(images_dir, file_name), os.path.join(val_images_dir, file_name))\n",
    "    label_file = file_name.replace('.jpg', '.txt')\n",
    "    if os.path.exists(os.path.join(labels_dir, label_file)):\n",
    "        shutil.move(os.path.join(labels_dir, label_file), os.path.join(val_labels_dir, label_file))\n",
    "\n",
    "\n",
    "\n",
    "\n"
   ]
  }
 ],
 "metadata": {
  "kernelspec": {
   "display_name": "myenvironment",
   "language": "python",
   "name": "python3"
  },
  "language_info": {
   "codemirror_mode": {
    "name": "ipython",
    "version": 3
   },
   "file_extension": ".py",
   "mimetype": "text/x-python",
   "name": "python",
   "nbconvert_exporter": "python",
   "pygments_lexer": "ipython3",
   "version": "3.12.5"
  }
 },
 "nbformat": 4,
 "nbformat_minor": 2
}
